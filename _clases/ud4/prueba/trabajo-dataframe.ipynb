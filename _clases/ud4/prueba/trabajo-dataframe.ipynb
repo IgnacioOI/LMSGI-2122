{
 "cells": [
  {
   "cell_type": "markdown",
   "metadata": {},
   "source": [
    "### TRABAJO CON PANDAS Y DATAFRAME"
   ]
  },
  {
   "cell_type": "markdown",
   "metadata": {},
   "source": [
    "#### Dataframe creado desde Diccionario"
   ]
  },
  {
   "cell_type": "code",
   "execution_count": null,
   "metadata": {},
   "outputs": [],
   "source": [
    "import pandas as pd\n",
    "\n",
    "datos = {'nombre':['María', 'Luis', 'Carmen', 'Antonio'],\n",
    "   'edad':[18, 22, 20, 21],\n",
    "  'grado':['Economía', 'Medicina', 'Arquitectura', 'Economía'],\n",
    "'correo':['maria@gmail.com', 'luis@yahoo.es', 'carmen@gmail.com', 'antonio@gmail.com']\n",
    "}\n",
    "\n",
    "df = pd.DataFrame(datos)\n",
    "print(df)\n",
    "\n",
    "df = df.sort_values('edad',ascending=False)\n",
    "df\n"
   ]
  },
  {
   "cell_type": "markdown",
   "metadata": {},
   "source": [
    "##### Dataframe rellenado manualmente"
   ]
  },
  {
   "cell_type": "code",
   "execution_count": 7,
   "metadata": {},
   "outputs": [
    {
     "data": {
      "text/html": [
       "<div>\n",
       "<style scoped>\n",
       "    .dataframe tbody tr th:only-of-type {\n",
       "        vertical-align: middle;\n",
       "    }\n",
       "\n",
       "    .dataframe tbody tr th {\n",
       "        vertical-align: top;\n",
       "    }\n",
       "\n",
       "    .dataframe thead th {\n",
       "        text-align: right;\n",
       "    }\n",
       "</style>\n",
       "<table border=\"1\" class=\"dataframe\">\n",
       "  <thead>\n",
       "    <tr style=\"text-align: right;\">\n",
       "      <th></th>\n",
       "      <th>nombre</th>\n",
       "      <th>edad</th>\n",
       "    </tr>\n",
       "  </thead>\n",
       "  <tbody>\n",
       "    <tr>\n",
       "      <th>0</th>\n",
       "      <td>Pepe</td>\n",
       "      <td>25</td>\n",
       "    </tr>\n",
       "    <tr>\n",
       "      <th>1</th>\n",
       "      <td>Manuel</td>\n",
       "      <td>34</td>\n",
       "    </tr>\n",
       "    <tr>\n",
       "      <th>2</th>\n",
       "      <td>Rodrigo</td>\n",
       "      <td>18</td>\n",
       "    </tr>\n",
       "  </tbody>\n",
       "</table>\n",
       "</div>"
      ],
      "text/plain": [
       "    nombre  edad\n",
       "0     Pepe    25\n",
       "1   Manuel    34\n",
       "2  Rodrigo    18"
      ]
     },
     "execution_count": 7,
     "metadata": {},
     "output_type": "execute_result"
    }
   ],
   "source": [
    "import pandas as pd\n",
    "\n",
    "columnas = [\"nombre\", \"edad\"]\n",
    "\n",
    "fila1 = {\"nombre\": \"Pepe\", \"edad\": 25}\n",
    "fila2 = {\"nombre\": \"Manuel\", \"edad\": 34}\n",
    "fila3 = {\"nombre\": \"Rodrigo\", \"edad\": 18}\n",
    "\n",
    "filas = [fila1,fila2,fila3]\n",
    "\n",
    "df = pd.DataFrame(filas, columns=columnas)\n",
    "df\n"
   ]
  },
  {
   "cell_type": "markdown",
   "metadata": {},
   "source": [
    "#### Cargar Dataframe desde CSV"
   ]
  },
  {
   "cell_type": "code",
   "execution_count": 21,
   "metadata": {},
   "outputs": [
    {
     "name": "stdout",
     "output_type": "stream",
     "text": [
      "    nombre  edad\n",
      "0     pepe    25\n",
      "1   manuel    34\n",
      "2  Rodrigo    18\n"
     ]
    }
   ],
   "source": [
    "import pandas as pd\n",
    "\n",
    "fichero = \"dataframe_excel.csv\"\n",
    "df = pd.read_csv(fichero,sep=\";\")\n",
    "\n",
    "print(df)\n",
    "\n",
    "df_sorted = df.sort_values('edad',ascending=False)\n",
    "\n",
    "fichero = \"dataframe_excel_sorted.csv\"\n",
    "df_sorted.to_csv(fichero,sep=\",\")\n",
    "\n",
    "\n"
   ]
  }
 ],
 "metadata": {
  "interpreter": {
   "hash": "d566e0234dcd0f8363d289802c41f43d473c13ba992f34bf40043e2502e5c882"
  },
  "kernelspec": {
   "display_name": "Python 3.9.7 64-bit ('3.9.7': pyenv)",
   "language": "python",
   "name": "python3"
  },
  "language_info": {
   "codemirror_mode": {
    "name": "ipython",
    "version": 3
   },
   "file_extension": ".py",
   "mimetype": "text/x-python",
   "name": "python",
   "nbconvert_exporter": "python",
   "pygments_lexer": "ipython3",
   "version": "3.8.8"
  },
  "orig_nbformat": 4
 },
 "nbformat": 4,
 "nbformat_minor": 2
}
